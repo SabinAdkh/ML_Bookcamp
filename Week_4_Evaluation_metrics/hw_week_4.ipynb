{
 "cells": [
  {
   "cell_type": "code",
   "execution_count": 1,
   "id": "c042524f-46cb-440b-a21e-71d39c8c4f55",
   "metadata": {},
   "outputs": [],
   "source": [
    "import numpy as np\n",
    "import pandas as pd\n",
    "\n",
    "import matplotlib.pyplot as plt\n",
    "import seaborn as sns\n",
    "\n",
    "\n",
    "from sklearn.model_selection import (train_test_split,\n",
    "                                     KFold)\n",
    "\n",
    "from sklearn.metrics import (confusion_matrix,\n",
    "                             roc_auc_score)\n",
    "\n",
    "from sklearn.feature_extraction import DictVectorizer\n",
    "from sklearn.linear_model import LogisticRegression\n",
    "\n",
    "\n",
    "%matplotlib inline"
   ]
  },
  {
   "cell_type": "code",
   "execution_count": 2,
   "id": "3c1f0405-5b85-48ac-9255-81e7faf5e841",
   "metadata": {},
   "outputs": [],
   "source": [
    "# Dataset\n",
    "#!wget https://raw.githubusercontent.com/alexeygrigorev/datasets/master/AER_credit_card_data.csv"
   ]
  },
  {
   "cell_type": "code",
   "execution_count": 3,
   "id": "6fd6290f-5e31-4a7d-a37f-9af5abc215bf",
   "metadata": {},
   "outputs": [
    {
     "data": {
      "text/html": [
       "<div>\n",
       "<style scoped>\n",
       "    .dataframe tbody tr th:only-of-type {\n",
       "        vertical-align: middle;\n",
       "    }\n",
       "\n",
       "    .dataframe tbody tr th {\n",
       "        vertical-align: top;\n",
       "    }\n",
       "\n",
       "    .dataframe thead th {\n",
       "        text-align: right;\n",
       "    }\n",
       "</style>\n",
       "<table border=\"1\" class=\"dataframe\">\n",
       "  <thead>\n",
       "    <tr style=\"text-align: right;\">\n",
       "      <th></th>\n",
       "      <th>card</th>\n",
       "      <th>reports</th>\n",
       "      <th>age</th>\n",
       "      <th>income</th>\n",
       "      <th>share</th>\n",
       "      <th>expenditure</th>\n",
       "      <th>owner</th>\n",
       "      <th>selfemp</th>\n",
       "      <th>dependents</th>\n",
       "      <th>months</th>\n",
       "      <th>majorcards</th>\n",
       "      <th>active</th>\n",
       "    </tr>\n",
       "  </thead>\n",
       "  <tbody>\n",
       "    <tr>\n",
       "      <th>0</th>\n",
       "      <td>yes</td>\n",
       "      <td>0</td>\n",
       "      <td>37.66667</td>\n",
       "      <td>4.5200</td>\n",
       "      <td>0.033270</td>\n",
       "      <td>124.983300</td>\n",
       "      <td>yes</td>\n",
       "      <td>no</td>\n",
       "      <td>3</td>\n",
       "      <td>54</td>\n",
       "      <td>1</td>\n",
       "      <td>12</td>\n",
       "    </tr>\n",
       "    <tr>\n",
       "      <th>1</th>\n",
       "      <td>yes</td>\n",
       "      <td>0</td>\n",
       "      <td>33.25000</td>\n",
       "      <td>2.4200</td>\n",
       "      <td>0.005217</td>\n",
       "      <td>9.854167</td>\n",
       "      <td>no</td>\n",
       "      <td>no</td>\n",
       "      <td>3</td>\n",
       "      <td>34</td>\n",
       "      <td>1</td>\n",
       "      <td>13</td>\n",
       "    </tr>\n",
       "    <tr>\n",
       "      <th>2</th>\n",
       "      <td>yes</td>\n",
       "      <td>0</td>\n",
       "      <td>33.66667</td>\n",
       "      <td>4.5000</td>\n",
       "      <td>0.004156</td>\n",
       "      <td>15.000000</td>\n",
       "      <td>yes</td>\n",
       "      <td>no</td>\n",
       "      <td>4</td>\n",
       "      <td>58</td>\n",
       "      <td>1</td>\n",
       "      <td>5</td>\n",
       "    </tr>\n",
       "    <tr>\n",
       "      <th>3</th>\n",
       "      <td>yes</td>\n",
       "      <td>0</td>\n",
       "      <td>30.50000</td>\n",
       "      <td>2.5400</td>\n",
       "      <td>0.065214</td>\n",
       "      <td>137.869200</td>\n",
       "      <td>no</td>\n",
       "      <td>no</td>\n",
       "      <td>0</td>\n",
       "      <td>25</td>\n",
       "      <td>1</td>\n",
       "      <td>7</td>\n",
       "    </tr>\n",
       "    <tr>\n",
       "      <th>4</th>\n",
       "      <td>yes</td>\n",
       "      <td>0</td>\n",
       "      <td>32.16667</td>\n",
       "      <td>9.7867</td>\n",
       "      <td>0.067051</td>\n",
       "      <td>546.503300</td>\n",
       "      <td>yes</td>\n",
       "      <td>no</td>\n",
       "      <td>2</td>\n",
       "      <td>64</td>\n",
       "      <td>1</td>\n",
       "      <td>5</td>\n",
       "    </tr>\n",
       "  </tbody>\n",
       "</table>\n",
       "</div>"
      ],
      "text/plain": [
       "  card  reports       age  income     share  expenditure owner selfemp  \\\n",
       "0  yes        0  37.66667  4.5200  0.033270   124.983300   yes      no   \n",
       "1  yes        0  33.25000  2.4200  0.005217     9.854167    no      no   \n",
       "2  yes        0  33.66667  4.5000  0.004156    15.000000   yes      no   \n",
       "3  yes        0  30.50000  2.5400  0.065214   137.869200    no      no   \n",
       "4  yes        0  32.16667  9.7867  0.067051   546.503300   yes      no   \n",
       "\n",
       "   dependents  months  majorcards  active  \n",
       "0           3      54           1      12  \n",
       "1           3      34           1      13  \n",
       "2           4      58           1       5  \n",
       "3           0      25           1       7  \n",
       "4           2      64           1       5  "
      ]
     },
     "execution_count": 3,
     "metadata": {},
     "output_type": "execute_result"
    }
   ],
   "source": [
    "# Reading the dataset\n",
    "df = pd.read_csv(\"AER_credit_card_data.csv\")\n",
    "df.head()"
   ]
  },
  {
   "cell_type": "code",
   "execution_count": 4,
   "id": "7b82b4e7-c0a3-4b99-a79f-f2c97b6f0cb8",
   "metadata": {},
   "outputs": [],
   "source": [
    "# Encoding Target Variable To 0 and 1\n",
    "df.card = (df.card == 'yes').astype(int)"
   ]
  },
  {
   "cell_type": "code",
   "execution_count": 5,
   "id": "01bfbca6-813e-4c30-9fed-b1fcaff23f7e",
   "metadata": {},
   "outputs": [],
   "source": [
    "# Initializing Numerical and Categorical Columns\n",
    "numerical = ['reports', 'age', 'income', 'share', 'expenditure', 'dependents', 'months', 'majorcards', 'active']\n",
    "categorical = ['owner', 'selfemp']"
   ]
  },
  {
   "cell_type": "code",
   "execution_count": 6,
   "id": "d4f9ad1c-70e7-43cf-b2d7-1f8f77d8817d",
   "metadata": {},
   "outputs": [],
   "source": [
    "# Splitting The Dataset \n",
    "df_full_train, df_test = train_test_split(df, test_size=0.2, random_state=1)\n",
    "\n",
    "df_train, df_val = train_test_split(df_full_train, test_size=0.25, random_state=1)\n",
    "\n",
    "df_train = df_train.reset_index(drop=True)\n",
    "df_val = df_val.reset_index(drop=True)\n",
    "df_test = df_test.reset_index(drop=True)\n",
    "\n",
    "y_train = df_train.card\n",
    "y_test = df_test.card\n",
    "y_val = df_val.card\n",
    "\n",
    "del df_train['card']\n",
    "del df_test['card']\n",
    "del df_val['card']"
   ]
  },
  {
   "cell_type": "code",
   "execution_count": 7,
   "id": "ea4bd87d-eceb-41f2-a6d5-f2debfe96372",
   "metadata": {},
   "outputs": [
    {
     "data": {
      "text/plain": [
       "(791, 264, 264)"
      ]
     },
     "execution_count": 7,
     "metadata": {},
     "output_type": "execute_result"
    }
   ],
   "source": [
    "len(df_train), len(df_test), len(df_val)"
   ]
  },
  {
   "cell_type": "code",
   "execution_count": 8,
   "id": "f217a9f1-76c0-4806-a1d6-0b57104e5d0e",
   "metadata": {},
   "outputs": [
    {
     "name": "stdout",
     "output_type": "stream",
     "text": [
      "    reports, 0.717\n",
      "        age, 0.524\n",
      "     income, 0.591\n",
      "      share, 0.989\n",
      "expenditure, 0.991\n",
      " dependents, 0.533\n",
      "     months, 0.529\n",
      " majorcards, 0.534\n",
      "     active, 0.604\n"
     ]
    }
   ],
   "source": [
    "# Roc Auc Score of Numeric Columns\n",
    "for col in numerical:\n",
    "    score = roc_auc_score(y_train, df_train[col])\n",
    "    if score < 0.5:\n",
    "        score = roc_auc_score(y_train, -df_train[col])\n",
    "    print(\"%11s, %.3f\" % (col, score))"
   ]
  },
  {
   "cell_type": "markdown",
   "id": "ff239f6c-1887-4c54-a54f-8017f4ef258f",
   "metadata": {},
   "source": [
    "#### Answer Question 1: share"
   ]
  },
  {
   "cell_type": "code",
   "execution_count": 9,
   "id": "8b4fb7af-5e74-46a7-9ded-897caad63bab",
   "metadata": {
    "tags": []
   },
   "outputs": [],
   "source": [
    "# Encoding The Categorical Columns\n",
    "dv = DictVectorizer(sparse=False)\n",
    "\n",
    "train_dicts = df_train[categorical + numerical].to_dict(orient='records')\n",
    "X_train = dv.fit_transform(train_dicts)\n",
    "\n",
    "val_dicts = df_val[categorical + numerical].to_dict(orient='records')\n",
    "X_val = dv.transform(val_dicts)"
   ]
  },
  {
   "cell_type": "code",
   "execution_count": 10,
   "id": "b5123ab3-ceb1-42c2-99e6-0a5a041eff89",
   "metadata": {},
   "outputs": [
    {
     "data": {
      "text/plain": [
       "LogisticRegression(max_iter=1000, solver='liblinear')"
      ]
     },
     "execution_count": 10,
     "metadata": {},
     "output_type": "execute_result"
    }
   ],
   "source": [
    "# Initializing Logistic Regressiong Model\n",
    "model = LogisticRegression(solver='liblinear', C=1.0, max_iter=1000)\n",
    "model.fit(X_train, y_train)"
   ]
  },
  {
   "cell_type": "code",
   "execution_count": 11,
   "id": "b7b39e2e-b04a-494e-b559-118a20d56b80",
   "metadata": {},
   "outputs": [],
   "source": [
    "# Predictions\n",
    "y_pred = model.predict_proba(X_val)[:, 1]"
   ]
  },
  {
   "cell_type": "code",
   "execution_count": 12,
   "id": "8e04b3ea-55f8-43a0-b80d-76766cbec695",
   "metadata": {},
   "outputs": [
    {
     "data": {
      "text/plain": [
       "0.974"
      ]
     },
     "execution_count": 12,
     "metadata": {},
     "output_type": "execute_result"
    }
   ],
   "source": [
    "# AUC Score On The Validation Dataset\n",
    "roc_auc_score(y_val, y_pred >= 0.5).round(3)"
   ]
  },
  {
   "cell_type": "markdown",
   "id": "6667b530-7de9-4e20-a3a3-0bfbf5746b49",
   "metadata": {},
   "source": [
    "#### Answer Question 2: 0.974"
   ]
  },
  {
   "cell_type": "code",
   "execution_count": 13,
   "id": "562ab63f-cf4f-451e-aa35-82f7d13f4ce6",
   "metadata": {},
   "outputs": [],
   "source": [
    "def score_df(y_true, y_pred):\n",
    "    scores = []\n",
    "    \n",
    "    thresholds = np.arange(0.0, 1.0, 0.01)\n",
    "    \n",
    "\n",
    "    for t in thresholds:\n",
    "        actual_positive = (y_true == 1)\n",
    "        actual_negative = (y_true == 0)\n",
    "\n",
    "        predict_positive = (y_pred >= t)\n",
    "        predict_negative = (y_pred < t)\n",
    "\n",
    "        tp = (predict_positive & actual_positive).sum()\n",
    "        tn = (actual_negative & predict_negative).sum()\n",
    "\n",
    "        fp = (predict_positive & actual_negative).sum()\n",
    "        fn = (predict_negative & actual_positive).sum()\n",
    "\n",
    "        scores.append((t, tp, fp, fn, tn))\n",
    "        \n",
    "    columns = ['threshold', 'tp', 'fp', 'fn', 'tn']\n",
    "    df_scores = pd.DataFrame(scores, columns = columns)\n",
    "    \n",
    "    df_scores['P'] = df_scores.tp / (df_scores.tp + df_scores.fp)\n",
    "    df_scores['R'] = df_scores.tp / (df_scores.tp + df_scores.fn)\n",
    "\n",
    "    return df_scores    "
   ]
  },
  {
   "cell_type": "code",
   "execution_count": 14,
   "id": "f36050de-5379-4e84-a0cb-90a8eb028f20",
   "metadata": {},
   "outputs": [],
   "source": [
    "df_scores = score_df(y_val, y_pred)"
   ]
  },
  {
   "cell_type": "code",
   "execution_count": 15,
   "id": "e20864a6-c5bb-448a-b702-f8f060261926",
   "metadata": {},
   "outputs": [
    {
     "data": {
      "text/plain": [
       "[<matplotlib.lines.Line2D at 0x7ff242b91e20>]"
      ]
     },
     "execution_count": 15,
     "metadata": {},
     "output_type": "execute_result"
    },
    {
     "data": {
      "image/png": "[encoded data removed]",
      "text/plain": [
       "<Figure size 432x288 with 1 Axes>"
      ]
     },
     "metadata": {
      "needs_background": "light"
     },
     "output_type": "display_data"
    }
   ],
   "source": [
    "# Plotting Precsion and Recall \n",
    "plt.plot(df_scores.threshold, df_scores.P, label='precision')\n",
    "plt.plot(df_scores.threshold, df_scores.R, label='recall')"
   ]
  },
  {
   "cell_type": "markdown",
   "id": "cfd8c955-d01b-42af-918d-4d904a951b64",
   "metadata": {},
   "source": [
    "#### Answer Question 3: 0.3"
   ]
  },
  {
   "cell_type": "code",
   "execution_count": 16,
   "id": "165232fb-fbb4-4ef9-9b7f-231eb32abf45",
   "metadata": {},
   "outputs": [
    {
     "data": {
      "text/html": [
       "<div>\n",
       "<style scoped>\n",
       "    .dataframe tbody tr th:only-of-type {\n",
       "        vertical-align: middle;\n",
       "    }\n",
       "\n",
       "    .dataframe tbody tr th {\n",
       "        vertical-align: top;\n",
       "    }\n",
       "\n",
       "    .dataframe thead th {\n",
       "        text-align: right;\n",
       "    }\n",
       "</style>\n",
       "<table border=\"1\" class=\"dataframe\">\n",
       "  <thead>\n",
       "    <tr style=\"text-align: right;\">\n",
       "      <th></th>\n",
       "      <th>threshold</th>\n",
       "      <th>tp</th>\n",
       "      <th>fp</th>\n",
       "      <th>fn</th>\n",
       "      <th>tn</th>\n",
       "      <th>P</th>\n",
       "      <th>R</th>\n",
       "      <th>F1</th>\n",
       "    </tr>\n",
       "  </thead>\n",
       "  <tbody>\n",
       "    <tr>\n",
       "      <th>35</th>\n",
       "      <td>0.35</td>\n",
       "      <td>205</td>\n",
       "      <td>1</td>\n",
       "      <td>6</td>\n",
       "      <td>52</td>\n",
       "      <td>0.995146</td>\n",
       "      <td>0.971564</td>\n",
       "      <td>0.983213</td>\n",
       "    </tr>\n",
       "    <tr>\n",
       "      <th>36</th>\n",
       "      <td>0.36</td>\n",
       "      <td>205</td>\n",
       "      <td>1</td>\n",
       "      <td>6</td>\n",
       "      <td>52</td>\n",
       "      <td>0.995146</td>\n",
       "      <td>0.971564</td>\n",
       "      <td>0.983213</td>\n",
       "    </tr>\n",
       "    <tr>\n",
       "      <th>37</th>\n",
       "      <td>0.37</td>\n",
       "      <td>205</td>\n",
       "      <td>1</td>\n",
       "      <td>6</td>\n",
       "      <td>52</td>\n",
       "      <td>0.995146</td>\n",
       "      <td>0.971564</td>\n",
       "      <td>0.983213</td>\n",
       "    </tr>\n",
       "    <tr>\n",
       "      <th>38</th>\n",
       "      <td>0.38</td>\n",
       "      <td>205</td>\n",
       "      <td>1</td>\n",
       "      <td>6</td>\n",
       "      <td>52</td>\n",
       "      <td>0.995146</td>\n",
       "      <td>0.971564</td>\n",
       "      <td>0.983213</td>\n",
       "    </tr>\n",
       "    <tr>\n",
       "      <th>39</th>\n",
       "      <td>0.39</td>\n",
       "      <td>205</td>\n",
       "      <td>1</td>\n",
       "      <td>6</td>\n",
       "      <td>52</td>\n",
       "      <td>0.995146</td>\n",
       "      <td>0.971564</td>\n",
       "      <td>0.983213</td>\n",
       "    </tr>\n",
       "    <tr>\n",
       "      <th>40</th>\n",
       "      <td>0.40</td>\n",
       "      <td>205</td>\n",
       "      <td>1</td>\n",
       "      <td>6</td>\n",
       "      <td>52</td>\n",
       "      <td>0.995146</td>\n",
       "      <td>0.971564</td>\n",
       "      <td>0.983213</td>\n",
       "    </tr>\n",
       "    <tr>\n",
       "      <th>41</th>\n",
       "      <td>0.41</td>\n",
       "      <td>205</td>\n",
       "      <td>1</td>\n",
       "      <td>6</td>\n",
       "      <td>52</td>\n",
       "      <td>0.995146</td>\n",
       "      <td>0.971564</td>\n",
       "      <td>0.983213</td>\n",
       "    </tr>\n",
       "  </tbody>\n",
       "</table>\n",
       "</div>"
      ],
      "text/plain": [
       "    threshold   tp  fp  fn  tn         P         R        F1\n",
       "35       0.35  205   1   6  52  0.995146  0.971564  0.983213\n",
       "36       0.36  205   1   6  52  0.995146  0.971564  0.983213\n",
       "37       0.37  205   1   6  52  0.995146  0.971564  0.983213\n",
       "38       0.38  205   1   6  52  0.995146  0.971564  0.983213\n",
       "39       0.39  205   1   6  52  0.995146  0.971564  0.983213\n",
       "40       0.40  205   1   6  52  0.995146  0.971564  0.983213\n",
       "41       0.41  205   1   6  52  0.995146  0.971564  0.983213"
      ]
     },
     "execution_count": 16,
     "metadata": {},
     "output_type": "execute_result"
    }
   ],
   "source": [
    "df_scores['F1'] = 2 * ((df_scores.P * df_scores.R) / (df_scores.P + df_scores.R))\n",
    "df_scores[df_scores['F1'] == df_scores['F1'].max()]"
   ]
  },
  {
   "cell_type": "markdown",
   "id": "b917e5ce-1a7d-4941-9d35-1e14cfa6aa33",
   "metadata": {},
   "source": [
    "#### Answer Question 4: 0.4"
   ]
  },
  {
   "cell_type": "code",
   "execution_count": 17,
   "id": "c15e679d-17a2-4f1c-be17-10e95790b1b6",
   "metadata": {},
   "outputs": [],
   "source": [
    "def train(df, y, C):\n",
    "    dv = DictVectorizer(sparse=False)\n",
    "    \n",
    "    train_dicts = df_train[categorical + numerical].to_dict(orient='records')\n",
    "    X_train = dv.fit_transform(train_dicts)\n",
    "    \n",
    "    model = LogisticRegression(solver='liblinear', C=C, max_iter=1000)\n",
    "    model.fit(X_train, y)\n",
    "    \n",
    "    return dv, model"
   ]
  },
  {
   "cell_type": "code",
   "execution_count": 18,
   "id": "bb849849-b3f8-4efa-881f-60bfb5ae6955",
   "metadata": {},
   "outputs": [],
   "source": [
    "def predict(df, dv, model):\n",
    "    dicts = df[categorical + numerical].to_dict(orient='records')\n",
    "    \n",
    "    X = dv.transform(dicts)\n",
    "    y_pred = model.predict_proba(X)[:, 1]\n",
    "    \n",
    "    return y_pred"
   ]
  },
  {
   "cell_type": "code",
   "execution_count": 19,
   "id": "79397d3e-5c54-4933-a27b-5aeb872ea3f6",
   "metadata": {},
   "outputs": [
    {
     "name": "stdout",
     "output_type": "stream",
     "text": [
      "0.000\n",
      "0.000\n",
      "0.000\n",
      "0.002\n",
      "0.003\n"
     ]
    }
   ],
   "source": [
    "n_splits = 5\n",
    "scores = []\n",
    "kfold = KFold(n_splits=n_splits, shuffle=True, random_state=1)\n",
    "\n",
    "for train_idx, val_idx in kfold.split(df_full_train):\n",
    "    df_train = df_full_train.iloc[train_idx]\n",
    "    df_val = df_full_train.iloc[val_idx]\n",
    "    \n",
    "    y_train = df_train.card\n",
    "    y_val = df_val.card\n",
    "    \n",
    "    dv, model = train(df_train, y_train, 1.0)\n",
    "    y_pred = predict(df_val, dv, model)\n",
    "    \n",
    "    auc = roc_auc_score(y_val, y_pred)\n",
    "    scores.append(auc)\n",
    "    \n",
    "    print(\"%.3f\" %(np.std(scores)))"
   ]
  },
  {
   "cell_type": "markdown",
   "id": "a83f5955-8c1f-4f00-ad09-9f19206f9fea",
   "metadata": {},
   "source": [
    "#### Answer Question 5: 0.003"
   ]
  },
  {
   "cell_type": "code",
   "execution_count": 20,
   "id": "3d8525a2-f321-421d-b318-44f1cf818dcf",
   "metadata": {},
   "outputs": [
    {
     "name": "stdout",
     "output_type": "stream",
     "text": [
      "C=0.01, 0.992 +- 0.006\n",
      "C=0.1, 0.995 +- 0.004\n",
      "C=1, 0.996 +- 0.003\n",
      "C=10, 0.996 +- 0.003\n"
     ]
    }
   ],
   "source": [
    "n_splits = 5\n",
    "kfold = KFold(n_splits=n_splits, shuffle=True, random_state=1)\n",
    "\n",
    "for C in [0.01, 0.1, 1, 10]:\n",
    "    scores = []\n",
    "\n",
    "    for train_idx, val_idx in kfold.split(df_full_train):\n",
    "        df_train = df_full_train.iloc[train_idx]\n",
    "        df_val = df_full_train.iloc[val_idx]\n",
    "\n",
    "        y_train = df_train.card\n",
    "        y_val = df_val.card\n",
    "\n",
    "        dv, model = train(df_train, y_train, C)\n",
    "        y_pred = predict(df_val, dv, model)\n",
    "\n",
    "        auc = roc_auc_score(y_val, y_pred)\n",
    "        scores.append(auc)\n",
    "        \n",
    "    print(\"C=%s, %.3f +- %.3f\" %(C, np.mean(scores), np.std(scores)))"
   ]
  },
  {
   "cell_type": "markdown",
   "id": "b5bc7cc0-1ee4-49a7-b8bb-37ccaa0151eb",
   "metadata": {
    "tags": []
   },
   "source": [
    "#### Answer Question 6: 1"
   ]
  }
 ],
 "metadata": {
  "kernelspec": {
   "display_name": "Python 3 (ipykernel)",
   "language": "python",
   "name": "python3"
  },
  "language_info": {
   "codemirror_mode": {
    "name": "ipython",
    "version": 3
   },
   "file_extension": ".py",
   "mimetype": "text/x-python",
   "name": "python",
   "nbconvert_exporter": "python",
   "pygments_lexer": "ipython3",
   "version": "3.9.9"
  }
 },
 "nbformat": 4,
 "nbformat_minor": 5
}
