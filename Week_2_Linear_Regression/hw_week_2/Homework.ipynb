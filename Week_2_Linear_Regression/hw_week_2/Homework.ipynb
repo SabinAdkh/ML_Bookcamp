{
 "cells": [
  {
   "cell_type": "code",
   "execution_count": 1,
   "id": "e52ab800-df9f-4e2f-9f17-228db04b8475",
   "metadata": {},
   "outputs": [],
   "source": [
    "import numpy as np\n",
    "import pandas as pd\n",
    "\n",
    "import matplotlib.pyplot as plt\n",
    "import seaborn as sns\n",
    "\n",
    "%matplotlib inline"
   ]
  },
  {
   "cell_type": "code",
   "execution_count": 2,
   "id": "50126fc0-73b5-4f4c-909d-45c0d6647c98",
   "metadata": {},
   "outputs": [],
   "source": [
    "#!wget https://raw.githubusercontent.com/alexeygrigorev/datasets/master/housing.csv"
   ]
  },
  {
   "cell_type": "code",
   "execution_count": 3,
   "id": "20b9cc4e-8833-481b-a484-5f7b08feffe8",
   "metadata": {},
   "outputs": [],
   "source": [
    "df = pd.read_csv(\"housing.csv\")"
   ]
  },
  {
   "cell_type": "markdown",
   "id": "4c309c51-be06-4e38-a59f-e41db50c56ca",
   "metadata": {},
   "source": [
    "# Expolratory Data Analysis"
   ]
  },
  {
   "cell_type": "code",
   "execution_count": 4,
   "id": "9ab9e35b-058d-46e1-a0ef-5be67b2f565e",
   "metadata": {},
   "outputs": [
    {
     "data": {
      "text/plain": [
       "<AxesSubplot:xlabel='median_house_value', ylabel='Count'>"
      ]
     },
     "execution_count": 4,
     "metadata": {},
     "output_type": "execute_result"
    },
    {
     "data": {
      "image/png": "[encoded data removed]",
      "text/plain": [
       "<Figure size 432x288 with 1 Axes>"
      ]
     },
     "metadata": {
      "needs_background": "light"
     },
     "output_type": "display_data"
    }
   ],
   "source": [
    "sns.histplot(df.median_house_value)"
   ]
  },
  {
   "cell_type": "code",
   "execution_count": 5,
   "id": "42263f1f-7ccc-4765-940d-3cbb5905ca26",
   "metadata": {},
   "outputs": [
    {
     "data": {
      "text/plain": [
       "<AxesSubplot:xlabel='median_house_value', ylabel='Count'>"
      ]
     },
     "execution_count": 5,
     "metadata": {},
     "output_type": "execute_result"
    },
    {
     "data": {
      "image/png": "[encoded data removed]",
      "text/plain": [
       "<Figure size 432x288 with 1 Axes>"
      ]
     },
     "metadata": {
      "needs_background": "light"
     },
     "output_type": "display_data"
    }
   ],
   "source": [
    "price_logs = np.log(df.median_house_value)\n",
    "sns.histplot(np.log(df.median_house_value))"
   ]
  },
  {
   "cell_type": "code",
   "execution_count": 6,
   "id": "92e6eb0c-ff8d-4e25-b1c4-be78b770f4ad",
   "metadata": {},
   "outputs": [],
   "source": [
    "cols = ['longitude', 'latitude', 'housing_median_age', 'total_rooms',\n",
    "       'total_bedrooms', 'population', 'households', 'median_income',\n",
    "       'median_house_value']\n",
    "df1 = df.loc[:, cols]"
   ]
  },
  {
   "cell_type": "markdown",
   "id": "9e1d77ce-6211-49b0-88d7-bd1cfbf36e06",
   "metadata": {},
   "source": [
    "### Missing Values"
   ]
  },
  {
   "cell_type": "code",
   "execution_count": 7,
   "id": "9b0353d2-3be1-4d54-8e97-434ae81249aa",
   "metadata": {},
   "outputs": [
    {
     "data": {
      "text/plain": [
       "total_bedrooms    207\n",
       "dtype: int64"
      ]
     },
     "execution_count": 7,
     "metadata": {},
     "output_type": "execute_result"
    }
   ],
   "source": [
    "# Q1\n",
    "df1[df1.columns[df1.isnull().any()]].isnull().sum()"
   ]
  },
  {
   "cell_type": "code",
   "execution_count": 8,
   "id": "5f3ad2c8-13da-44f2-a0b2-bf22438bf739",
   "metadata": {},
   "outputs": [
    {
     "data": {
      "text/plain": [
       "1166.0"
      ]
     },
     "execution_count": 8,
     "metadata": {},
     "output_type": "execute_result"
    }
   ],
   "source": [
    "# Q2\n",
    "df1.population.median()"
   ]
  },
  {
   "cell_type": "markdown",
   "id": "d25154ab-d72b-4092-800e-86050a18a2c9",
   "metadata": {},
   "source": [
    "### Splitting the data"
   ]
  },
  {
   "cell_type": "code",
   "execution_count": 9,
   "id": "d98b8855-76c0-4480-8cad-0cb3ceedd551",
   "metadata": {},
   "outputs": [
    {
     "data": {
      "text/plain": [
       "(20640, 12384, 4128, 4128)"
      ]
     },
     "execution_count": 9,
     "metadata": {},
     "output_type": "execute_result"
    }
   ],
   "source": [
    "np.random.seed(42)\n",
    "\n",
    "n = len(df1)\n",
    "n_train = int(n * 0.6)\n",
    "n_val = int(n * 0.2)\n",
    "n_test = int(n * 0.2)\n",
    "\n",
    "n, n_train, n_val , n_test"
   ]
  },
  {
   "cell_type": "code",
   "execution_count": 10,
   "id": "c4149bad-883e-4712-95c0-21d3d8def034",
   "metadata": {},
   "outputs": [],
   "source": [
    "idx = np.arange(n)\n",
    "shuffle_idx = np.random.shuffle(idx)\n",
    "\n",
    "df_train = df1.iloc[idx[:n_train]].reset_index(drop=True)\n",
    "df_val = df1.iloc[idx[n_train : n_train+n_val]].reset_index(drop=True)\n",
    "df_test = df1.iloc[idx[n_train+n_val:]].reset_index(drop=True)"
   ]
  },
  {
   "cell_type": "code",
   "execution_count": 11,
   "id": "0109ccd1-685b-4f43-b12f-535f879aee9f",
   "metadata": {},
   "outputs": [
    {
     "data": {
      "text/plain": [
       "(12384, 4128, 4128)"
      ]
     },
     "execution_count": 11,
     "metadata": {},
     "output_type": "execute_result"
    }
   ],
   "source": [
    "len(df_train), len(df_val), len(df_test)"
   ]
  },
  {
   "cell_type": "code",
   "execution_count": 12,
   "id": "7e91a54d-9721-48e5-9559-3a66e5c8da1d",
   "metadata": {},
   "outputs": [],
   "source": [
    "y_train = np.log1p(df_train.median_house_value)\n",
    "y_val = np.log1p(df_val.median_house_value)\n",
    "y_test = np.log1p(df_test.median_house_value)"
   ]
  },
  {
   "cell_type": "code",
   "execution_count": 13,
   "id": "b7aa72aa-4270-4abb-a241-0f505d5746f6",
   "metadata": {},
   "outputs": [],
   "source": [
    "del df_train['median_house_value']\n",
    "del df_val['median_house_value']\n",
    "del df_test['median_house_value']"
   ]
  },
  {
   "cell_type": "markdown",
   "id": "c6ce224c-6be9-4237-8abb-e64d8c86b435",
   "metadata": {},
   "source": [
    "# Linear Regression Model"
   ]
  },
  {
   "cell_type": "code",
   "execution_count": 14,
   "id": "9185ca1e-f0e1-477d-b4df-00f7b8913a61",
   "metadata": {},
   "outputs": [],
   "source": [
    "X_train_zero = df_train.fillna(0).values\n",
    "\n",
    "mean = df_train['total_bedrooms'].mean()\n",
    "X_train_mean = df_train.fillna(mean).values"
   ]
  },
  {
   "cell_type": "code",
   "execution_count": 15,
   "id": "1646db28-ec1d-4554-89cd-84620353a29c",
   "metadata": {},
   "outputs": [],
   "source": [
    "def linear_regression(X, y):\n",
    "    ones = np.ones(X.shape[0])\n",
    "    X = np.column_stack([ones, X])\n",
    "    \n",
    "    XTX = X.T.dot(X)\n",
    "    XTX_inv = np.linalg.inv(XTX)\n",
    "    lin_reg = XTX_inv.dot(X.T).dot(y)\n",
    "    \n",
    "    return lin_reg[0], lin_reg[1:]"
   ]
  },
  {
   "cell_type": "code",
   "execution_count": 61,
   "id": "00b781d1-687a-4a38-b766-d2a3476a1e8d",
   "metadata": {},
   "outputs": [],
   "source": [
    "X_val_fzero = df_val.fillna(0).values\n",
    "X_val_fmean = df_val.fillna(mean).values\n",
    "\n",
    "X_test_fzero = df_test.fillna(0).values\n",
    "X_test_fmean = df_test.fillna(mean).values"
   ]
  },
  {
   "cell_type": "code",
   "execution_count": 62,
   "id": "45c753c0-c96e-40fd-ad15-7637fcc4ce2b",
   "metadata": {},
   "outputs": [],
   "source": [
    "def rmse(y, y_pred):\n",
    "    err = (y - y_pred)\n",
    "    sq_err = err ** 2\n",
    "    m_sq_err = np.sum(sq_err) / len(y)\n",
    "    r_m_sq_err = np.sqrt(m_sq_err)\n",
    "    \n",
    "    return r_m_sq_err"
   ]
  },
  {
   "cell_type": "code",
   "execution_count": 64,
   "id": "77548dde-86b7-4d23-8656-e184516b324b",
   "metadata": {},
   "outputs": [],
   "source": [
    "# predictions with missing values replaced by zero (0).\n",
    "b, w = linear_regression(X_train_zero, y_train)\n",
    "y_pred = b + X_val_fzero.dot(w)"
   ]
  },
  {
   "cell_type": "code",
   "execution_count": 28,
   "id": "6af7da34-0473-4e9a-80db-0c67db98fdec",
   "metadata": {},
   "outputs": [
    {
     "data": {
      "text/plain": [
       "0.32953303652286825"
      ]
     },
     "execution_count": 28,
     "metadata": {},
     "output_type": "execute_result"
    }
   ],
   "source": [
    "# rmse with missing values filled as 0\n",
    "rmse(y_val, y_pred)"
   ]
  },
  {
   "cell_type": "code",
   "execution_count": 20,
   "id": "bf978dd9-1f5a-4c39-ba19-9defffa05b87",
   "metadata": {},
   "outputs": [
    {
     "data": {
      "text/plain": [
       "<AxesSubplot:xlabel='median_house_value', ylabel='Count'>"
      ]
     },
     "execution_count": 20,
     "metadata": {},
     "output_type": "execute_result"
    },
    {
     "data": {
      "image/png": "[encoded data removed]",
      "text/plain": [
       "<Figure size 1080x576 with 1 Axes>"
      ]
     },
     "metadata": {
      "needs_background": "light"
     },
     "output_type": "display_data"
    }
   ],
   "source": [
    "plt.figure(figsize=(15, 8))\n",
    "sns.histplot(y_val, color='red', alpha=0.5)\n",
    "sns.histplot(y_pred, color='blue', alpha=0.5)"
   ]
  },
  {
   "cell_type": "code",
   "execution_count": 65,
   "id": "84c8961b-75cf-4671-b947-ccdcbebb70b7",
   "metadata": {},
   "outputs": [],
   "source": [
    "# predictions with missing values replaced by mean\n",
    "b, w = linear_regression(X_train_mean, y_train)\n",
    "y_pred = b + X_val_fmean.dot(w)"
   ]
  },
  {
   "cell_type": "code",
   "execution_count": 66,
   "id": "4b6b152a-5cdd-4435-8b1b-14ef15ceed33",
   "metadata": {},
   "outputs": [
    {
     "data": {
      "text/plain": [
       "0.3290202549940456"
      ]
     },
     "execution_count": 66,
     "metadata": {},
     "output_type": "execute_result"
    }
   ],
   "source": [
    "# rmse\n",
    "rmse(y_val, y_pred)"
   ]
  },
  {
   "cell_type": "markdown",
   "id": "8e101559-0744-4dbd-9290-9e0315c18589",
   "metadata": {},
   "source": [
    "# Regularized Linear Regression"
   ]
  },
  {
   "cell_type": "code",
   "execution_count": 67,
   "id": "113e2491-8fa2-4402-b446-6de1638da418",
   "metadata": {},
   "outputs": [],
   "source": [
    "def linear_regression_reg(X, y, r=0.01):\n",
    "    ones = np.ones(X.shape[0])\n",
    "    X = np.column_stack([ones, X])\n",
    "    \n",
    "    XTX = X.T.dot(X)\n",
    "    XTX = XTX + r * np.eye(XTX.shape[0])\n",
    "                           \n",
    "    XTX_inv = np.linalg.inv(XTX)\n",
    "    lin_reg = XTX_inv.dot(X.T).dot(y)\n",
    "    \n",
    "    return lin_reg[0], lin_reg[1:]"
   ]
  },
  {
   "cell_type": "code",
   "execution_count": 69,
   "id": "c3a851f1-1a45-4ce7-96e9-217c61986da7",
   "metadata": {},
   "outputs": [],
   "source": [
    "b, w = linear_regression_reg(X_train_zero, y_train, 0.001)\n",
    "y_pred = b + X_val_fzero.dot(w) "
   ]
  },
  {
   "cell_type": "code",
   "execution_count": 70,
   "id": "8f8ba947-5440-44a3-a72b-c1f4b5da9b11",
   "metadata": {},
   "outputs": [
    {
     "name": "stdout",
     "output_type": "stream",
     "text": [
      "0 -> 0.32953303652286825\n",
      "1e-06 -> 0.32953303616466123\n",
      "0.001 -> 0.32953270386770533\n",
      "0.0001 -> 0.3295330009702452\n"
     ]
    }
   ],
   "source": [
    "r = [0, 0.000001, 0.001, 0.0001]\n",
    "\n",
    "for v in r:\n",
    "    b, w = linear_regression_reg(X_train_zero, y_train, v)\n",
    "    y_pred = b + X_val_fzero.dot(w)\n",
    "    \n",
    "    err = rmse(y_val, y_pred)\n",
    "    print(f\"{v} -> {err}\")"
   ]
  },
  {
   "cell_type": "markdown",
   "id": "7a686c66-b3b5-4a55-a731-16cffb4d5c09",
   "metadata": {},
   "source": [
    "## Using different seed values"
   ]
  },
  {
   "cell_type": "code",
   "execution_count": 71,
   "id": "0da288f5-0bc0-4d99-85e5-8a91f70c50a1",
   "metadata": {},
   "outputs": [
    {
     "data": {
      "text/plain": [
       "(20640, 12384, 4128, 4128)"
      ]
     },
     "execution_count": 71,
     "metadata": {},
     "output_type": "execute_result"
    }
   ],
   "source": [
    "# Q5\n",
    "n = len(df1)\n",
    "n_train = int(n * 0.6)\n",
    "n_val = int(n * 0.2)\n",
    "n_test = int(n * 0.2)\n",
    "\n",
    "n, n_train, n_val , n_test"
   ]
  },
  {
   "cell_type": "code",
   "execution_count": 73,
   "id": "91a93cc0-91a4-44a9-be2a-379a8fe9c470",
   "metadata": {},
   "outputs": [],
   "source": [
    "seed_values = [0, 1, 2, 3, 4, 5, 6, 7, 8, 9]\n",
    "rmse_scores = []\n",
    "\n",
    "for v in seed_values:\n",
    "    np.random.seed(v)\n",
    "    \n",
    "    idx = np.arange(n)\n",
    "    shuffle_idx = np.random.shuffle(idx)\n",
    "\n",
    "    df_train = df1.iloc[idx[:n_train]].reset_index(drop=True)\n",
    "    df_val = df1.iloc[idx[n_train : n_train+n_val]].reset_index(drop=True)\n",
    "    df_test = df1.iloc[idx[n_train+n_val:]].reset_index(drop=True)\n",
    "    \n",
    "    y_train = np.log1p(df_train.median_house_value)\n",
    "    y_val = np.log1p(df_val.median_house_value)\n",
    "    y_test = np.log1p(df_test.median_house_value)\n",
    "    \n",
    "    X_train = df_train.fillna(0).values\n",
    "    b, w = linear_regression(X_train, y_train)\n",
    "    X_val = df_val.fillna(0).values\n",
    "    y_pred = b + X_val.dot(w)\n",
    "    \n",
    "  \n",
    "    error = rmse(y_val, y_pred)\n",
    "    rmse_scores.append(error)"
   ]
  },
  {
   "cell_type": "code",
   "execution_count": 76,
   "id": "d602faa5-afdd-4d49-8039-3a98d7015e01",
   "metadata": {},
   "outputs": [
    {
     "data": {
      "text/plain": [
       "0.002"
      ]
     },
     "execution_count": 76,
     "metadata": {},
     "output_type": "execute_result"
    }
   ],
   "source": [
    "round(np.std(rmse_scores), 3)"
   ]
  },
  {
   "cell_type": "code",
   "execution_count": 77,
   "id": "6e44c1f2-841d-4ba4-b5d1-9c06d28ec5c7",
   "metadata": {},
   "outputs": [
    {
     "data": {
      "text/plain": [
       "0.16527504865290396"
      ]
     },
     "execution_count": 77,
     "metadata": {},
     "output_type": "execute_result"
    }
   ],
   "source": [
    "# Q6\n",
    "np.random.seed(9)\n",
    "    \n",
    "idx = np.arange(n)\n",
    "shuffle_idx = np.random.shuffle(idx)\n",
    "\n",
    "df_train = df1.iloc[idx[:n_train]].reset_index(drop=True)\n",
    "df_val = df1.iloc[idx[n_train : n_train+n_val]].reset_index(drop=True)\n",
    "df_test = df1.iloc[idx[n_train+n_val:]].reset_index(drop=True)\n",
    "\n",
    "y_train = np.log1p(df_train.median_house_value)\n",
    "y_val = np.log1p(df_val.median_house_value)\n",
    "y_test = np.log1p(df_test.median_house_value)\n",
    "\n",
    "X_train = df_train.fillna(0).values\n",
    "b, w = linear_regression_reg(X_train, y_train, r = 0.001)\n",
    "X_val = df_val.fillna(0).values\n",
    "y_pred = b + X_val.dot(w)\n",
    "\n",
    "rmse(y_val, y_pred)"
   ]
  },
  {
   "cell_type": "code",
   "execution_count": 78,
   "id": "6cbec312-4ea7-4bb8-8024-7483eab5d43b",
   "metadata": {},
   "outputs": [
    {
     "data": {
      "text/plain": [
       "<AxesSubplot:xlabel='median_house_value', ylabel='Count'>"
      ]
     },
     "execution_count": 78,
     "metadata": {},
     "output_type": "execute_result"
    },
    {
     "data": {
      "image/png": "[encoded data removed]",
      "text/plain": [
       "<Figure size 1080x576 with 1 Axes>"
      ]
     },
     "metadata": {
      "needs_background": "light"
     },
     "output_type": "display_data"
    }
   ],
   "source": [
    "plt.figure(figsize=(15, 8))\n",
    "sns.histplot(y_val, color='red', alpha=0.5)\n",
    "sns.histplot(y_pred, color='blue', alpha=0.5)"
   ]
  },
  {
   "cell_type": "code",
   "execution_count": null,
   "id": "5a3265aa-16a9-4929-8055-4bc606efc035",
   "metadata": {},
   "outputs": [],
   "source": []
  }
 ],
 "metadata": {
  "kernelspec": {
   "display_name": "Python 3 (ipykernel)",
   "language": "python",
   "name": "python3"
  },
  "language_info": {
   "codemirror_mode": {
    "name": "ipython",
    "version": 3
   },
   "file_extension": ".py",
   "mimetype": "text/x-python",
   "name": "python",
   "nbconvert_exporter": "python",
   "pygments_lexer": "ipython3",
   "version": "3.9.9"
  }
 },
 "nbformat": 4,
 "nbformat_minor": 5
}
