{
 "cells": [
  {
   "cell_type": "code",
   "execution_count": 1,
   "id": "a96bf9f7-c460-420f-adbc-c81296aeb259",
   "metadata": {},
   "outputs": [],
   "source": [
    "# !wget https://raw.githubusercontent.com/alexeygrigorev/datasets/master/housing.csv"
   ]
  },
  {
   "cell_type": "code",
   "execution_count": 2,
   "id": "bb2198c1-5275-421a-8d78-08a0430cc4cf",
   "metadata": {},
   "outputs": [],
   "source": [
    "import numpy as np\n",
    "import pandas as pd\n",
    "\n",
    "import matplotlib.pyplot as plt\n",
    "import seaborn as sns\n",
    "\n",
    "%matplotlib inline"
   ]
  },
  {
   "cell_type": "code",
   "execution_count": 3,
   "id": "3a8ecdeb-1c03-4d8d-b9f9-0904c94713e4",
   "metadata": {},
   "outputs": [
    {
     "data": {
      "text/html": [
       "<div>\n",
       "<style scoped>\n",
       "    .dataframe tbody tr th:only-of-type {\n",
       "        vertical-align: middle;\n",
       "    }\n",
       "\n",
       "    .dataframe tbody tr th {\n",
       "        vertical-align: top;\n",
       "    }\n",
       "\n",
       "    .dataframe thead th {\n",
       "        text-align: right;\n",
       "    }\n",
       "</style>\n",
       "<table border=\"1\" class=\"dataframe\">\n",
       "  <thead>\n",
       "    <tr style=\"text-align: right;\">\n",
       "      <th></th>\n",
       "      <th>longitude</th>\n",
       "      <th>latitude</th>\n",
       "      <th>housing_median_age</th>\n",
       "      <th>total_rooms</th>\n",
       "      <th>total_bedrooms</th>\n",
       "      <th>population</th>\n",
       "      <th>households</th>\n",
       "      <th>median_income</th>\n",
       "      <th>median_house_value</th>\n",
       "      <th>ocean_proximity</th>\n",
       "    </tr>\n",
       "  </thead>\n",
       "  <tbody>\n",
       "    <tr>\n",
       "      <th>0</th>\n",
       "      <td>-122.23</td>\n",
       "      <td>37.88</td>\n",
       "      <td>41.0</td>\n",
       "      <td>880.0</td>\n",
       "      <td>129.0</td>\n",
       "      <td>322.0</td>\n",
       "      <td>126.0</td>\n",
       "      <td>8.3252</td>\n",
       "      <td>452600.0</td>\n",
       "      <td>NEAR BAY</td>\n",
       "    </tr>\n",
       "    <tr>\n",
       "      <th>1</th>\n",
       "      <td>-122.22</td>\n",
       "      <td>37.86</td>\n",
       "      <td>21.0</td>\n",
       "      <td>7099.0</td>\n",
       "      <td>1106.0</td>\n",
       "      <td>2401.0</td>\n",
       "      <td>1138.0</td>\n",
       "      <td>8.3014</td>\n",
       "      <td>358500.0</td>\n",
       "      <td>NEAR BAY</td>\n",
       "    </tr>\n",
       "    <tr>\n",
       "      <th>2</th>\n",
       "      <td>-122.24</td>\n",
       "      <td>37.85</td>\n",
       "      <td>52.0</td>\n",
       "      <td>1467.0</td>\n",
       "      <td>190.0</td>\n",
       "      <td>496.0</td>\n",
       "      <td>177.0</td>\n",
       "      <td>7.2574</td>\n",
       "      <td>352100.0</td>\n",
       "      <td>NEAR BAY</td>\n",
       "    </tr>\n",
       "    <tr>\n",
       "      <th>3</th>\n",
       "      <td>-122.25</td>\n",
       "      <td>37.85</td>\n",
       "      <td>52.0</td>\n",
       "      <td>1274.0</td>\n",
       "      <td>235.0</td>\n",
       "      <td>558.0</td>\n",
       "      <td>219.0</td>\n",
       "      <td>5.6431</td>\n",
       "      <td>341300.0</td>\n",
       "      <td>NEAR BAY</td>\n",
       "    </tr>\n",
       "    <tr>\n",
       "      <th>4</th>\n",
       "      <td>-122.25</td>\n",
       "      <td>37.85</td>\n",
       "      <td>52.0</td>\n",
       "      <td>1627.0</td>\n",
       "      <td>280.0</td>\n",
       "      <td>565.0</td>\n",
       "      <td>259.0</td>\n",
       "      <td>3.8462</td>\n",
       "      <td>342200.0</td>\n",
       "      <td>NEAR BAY</td>\n",
       "    </tr>\n",
       "  </tbody>\n",
       "</table>\n",
       "</div>"
      ],
      "text/plain": [
       "   longitude  latitude  housing_median_age  total_rooms  total_bedrooms  \\\n",
       "0    -122.23     37.88                41.0        880.0           129.0   \n",
       "1    -122.22     37.86                21.0       7099.0          1106.0   \n",
       "2    -122.24     37.85                52.0       1467.0           190.0   \n",
       "3    -122.25     37.85                52.0       1274.0           235.0   \n",
       "4    -122.25     37.85                52.0       1627.0           280.0   \n",
       "\n",
       "   population  households  median_income  median_house_value ocean_proximity  \n",
       "0       322.0       126.0         8.3252            452600.0        NEAR BAY  \n",
       "1      2401.0      1138.0         8.3014            358500.0        NEAR BAY  \n",
       "2       496.0       177.0         7.2574            352100.0        NEAR BAY  \n",
       "3       558.0       219.0         5.6431            341300.0        NEAR BAY  \n",
       "4       565.0       259.0         3.8462            342200.0        NEAR BAY  "
      ]
     },
     "execution_count": 3,
     "metadata": {},
     "output_type": "execute_result"
    }
   ],
   "source": [
    "df = pd.read_csv(\"housing.csv\")\n",
    "df.head()"
   ]
  },
  {
   "cell_type": "markdown",
   "id": "f581f4c4-dabd-4db4-9009-3e8ac710159a",
   "metadata": {},
   "source": [
    "# Data Preparation"
   ]
  },
  {
   "cell_type": "code",
   "execution_count": 4,
   "id": "b9d18a36-8f9a-47b3-aa7b-b7c1ded798a6",
   "metadata": {},
   "outputs": [
    {
     "data": {
      "text/plain": [
       "Index(['longitude', 'latitude', 'housing_median_age', 'total_rooms',\n",
       "       'total_bedrooms', 'population', 'households', 'median_income',\n",
       "       'median_house_value', 'ocean_proximity'],\n",
       "      dtype='object')"
      ]
     },
     "execution_count": 4,
     "metadata": {},
     "output_type": "execute_result"
    }
   ],
   "source": [
    "df.columns"
   ]
  },
  {
   "cell_type": "code",
   "execution_count": 5,
   "id": "9470781f-6e0b-444d-ad6d-45aabd2323ab",
   "metadata": {},
   "outputs": [],
   "source": [
    "df = df.fillna(0)"
   ]
  },
  {
   "cell_type": "code",
   "execution_count": 6,
   "id": "514a6574-2133-42ec-80a3-a802c7aa5e93",
   "metadata": {},
   "outputs": [],
   "source": [
    "df['rooms_per_household'] = df['total_rooms'] / df['households']\n",
    "df['bedrooms_per_room'] = df['total_bedrooms'] / df['total_rooms']\n",
    "df['population_per_household'] = df['population'] / df['households']"
   ]
  },
  {
   "cell_type": "markdown",
   "id": "dde675ff-19cf-46cb-b3de-50af9da80fa7",
   "metadata": {},
   "source": [
    "### Question 1"
   ]
  },
  {
   "cell_type": "code",
   "execution_count": 7,
   "id": "68b2a1de-f80b-46e5-a81f-bd86a40216ce",
   "metadata": {},
   "outputs": [
    {
     "data": {
      "text/plain": [
       "<1H OCEAN     9136\n",
       "INLAND        6551\n",
       "NEAR OCEAN    2658\n",
       "NEAR BAY      2290\n",
       "ISLAND           5\n",
       "Name: ocean_proximity, dtype: int64"
      ]
     },
     "execution_count": 7,
     "metadata": {},
     "output_type": "execute_result"
    }
   ],
   "source": [
    "df.ocean_proximity.value_counts()"
   ]
  },
  {
   "cell_type": "markdown",
   "id": "f9db3f6e-5031-4f63-a63e-d7c312cf92ed",
   "metadata": {},
   "source": [
    "# Spliting the data"
   ]
  },
  {
   "cell_type": "code",
   "execution_count": 8,
   "id": "c0f8011d-d48e-472c-9de3-7bd25f8e8c76",
   "metadata": {},
   "outputs": [],
   "source": [
    "from sklearn.model_selection import train_test_split"
   ]
  },
  {
   "cell_type": "code",
   "execution_count": 9,
   "id": "d5b75009-6d83-4091-a492-9491b878926d",
   "metadata": {},
   "outputs": [],
   "source": [
    "df_full_train, df_test = train_test_split(df, test_size=0.2, random_state=1)"
   ]
  },
  {
   "cell_type": "code",
   "execution_count": 10,
   "id": "060fd5da-7f0b-49af-bf0c-be1d4d82b6e2",
   "metadata": {},
   "outputs": [],
   "source": [
    "df_train, df_val = train_test_split(df_full_train, test_size=0.25, random_state=1)"
   ]
  },
  {
   "cell_type": "code",
   "execution_count": 11,
   "id": "7e4a2f5c-2af5-4640-ae65-786811e18595",
   "metadata": {},
   "outputs": [
    {
     "data": {
      "text/plain": [
       "(12384, 4128, 4128)"
      ]
     },
     "execution_count": 11,
     "metadata": {},
     "output_type": "execute_result"
    }
   ],
   "source": [
    "len(df_train), len(df_val), len(df_test)"
   ]
  },
  {
   "cell_type": "code",
   "execution_count": 12,
   "id": "1dd34e43-fee9-4b17-81a1-cf561be43fdb",
   "metadata": {},
   "outputs": [],
   "source": [
    "df_train = df_train.reset_index(drop=True)\n",
    "df_val = df_val.reset_index(drop=True)\n",
    "df_test = df_test.reset_index(drop=True)"
   ]
  },
  {
   "cell_type": "code",
   "execution_count": 13,
   "id": "9ee0f839-f29e-4f58-95a2-4bc0599f05a7",
   "metadata": {},
   "outputs": [],
   "source": [
    "y_train = df_train.median_house_value\n",
    "y_val = df_val.median_house_value\n",
    "y_test = df_test.median_house_value"
   ]
  },
  {
   "cell_type": "code",
   "execution_count": 14,
   "id": "e4037421-b06a-4412-bf83-0f1f42761c01",
   "metadata": {},
   "outputs": [],
   "source": [
    "del df_train['median_house_value']\n",
    "del df_val['median_house_value']\n",
    "del df_test['median_house_value']"
   ]
  },
  {
   "cell_type": "markdown",
   "id": "0cc9af86-f31d-447c-afc1-0f1ab75456c2",
   "metadata": {},
   "source": [
    "### Question 2"
   ]
  },
  {
   "cell_type": "code",
   "execution_count": 15,
   "id": "d48065bb-ea0e-475c-85b3-54c7fab125d9",
   "metadata": {},
   "outputs": [],
   "source": [
    "corr = df_train.corr() "
   ]
  },
  {
   "cell_type": "code",
   "execution_count": 16,
   "id": "269d1903-2e1b-4684-8750-5014a633bdba",
   "metadata": {},
   "outputs": [
    {
     "data": {
      "text/plain": [
       "total_bedrooms  households        0.965051\n",
       "households      total_bedrooms    0.965051\n",
       "total_rooms     total_bedrooms    0.917606\n",
       "total_bedrooms  total_rooms       0.917606\n",
       "total_rooms     households        0.916417\n",
       "households      total_rooms       0.916417\n",
       "population      households        0.903207\n",
       "households      population        0.903207\n",
       "total_bedrooms  population        0.860477\n",
       "dtype: float64"
      ]
     },
     "execution_count": 16,
     "metadata": {},
     "output_type": "execute_result"
    }
   ],
   "source": [
    "corr.unstack().sort_values(kind='quicksort').nlargest(20)[11:]"
   ]
  },
  {
   "cell_type": "code",
   "execution_count": 17,
   "id": "26f9f6fd-2514-4218-bfa0-d47bde0d71e9",
   "metadata": {},
   "outputs": [],
   "source": [
    "# converting median_house_value to binary value\n",
    "avg = y_train.mean()\n",
    "above_average = y_train.apply(lambda x: x > avg).astype(int)"
   ]
  },
  {
   "cell_type": "markdown",
   "id": "ea9b8bc5-e808-4abf-9134-ee061ca0312c",
   "metadata": {},
   "source": [
    "### Question 3"
   ]
  },
  {
   "cell_type": "code",
   "execution_count": 18,
   "id": "98942bf6-0aef-4fbc-a303-08b3bab2c575",
   "metadata": {},
   "outputs": [],
   "source": [
    "from sklearn.metrics import mutual_info_score"
   ]
  },
  {
   "cell_type": "code",
   "execution_count": 19,
   "id": "dd6d1387-8cf9-4e4a-8091-6ffdc32bc6c0",
   "metadata": {},
   "outputs": [
    {
     "data": {
      "text/plain": [
       "0.58"
      ]
     },
     "execution_count": 19,
     "metadata": {},
     "output_type": "execute_result"
    }
   ],
   "source": [
    "mutual_info_score(df_train.ocean_proximity, y_train).round(2)"
   ]
  },
  {
   "cell_type": "markdown",
   "id": "d7b81075-f097-4d7b-b5b1-bfd784ff1894",
   "metadata": {},
   "source": [
    "### Question 4"
   ]
  },
  {
   "cell_type": "code",
   "execution_count": 20,
   "id": "2a2d2f68-1d13-4410-81a4-6ba16f553788",
   "metadata": {},
   "outputs": [],
   "source": [
    "from sklearn.feature_extraction import DictVectorizer\n",
    "from sklearn.linear_model import LogisticRegression"
   ]
  },
  {
   "cell_type": "code",
   "execution_count": 21,
   "id": "ded21c28-ba03-469d-ae33-9a6494942a3e",
   "metadata": {},
   "outputs": [],
   "source": [
    "dv = DictVectorizer(sparse=False)\n",
    "\n",
    "train_dicts = df_train.to_dict(orient='records')\n",
    "X_train = dv.fit_transform(train_dicts)\n",
    "\n",
    "val_dicts = df_val.to_dict(orient='records')\n",
    "X_val = dv.transform(val_dicts)"
   ]
  },
  {
   "cell_type": "code",
   "execution_count": 22,
   "id": "7a0a47ab-b155-4954-98f5-7b009f1acb91",
   "metadata": {},
   "outputs": [],
   "source": [
    "y_train_cat = y_train.apply(lambda x: x > avg).astype(int) \n",
    "y_val_cat = y_val.apply(lambda x: x > avg).astype(int) \n",
    "y_test_cat = y_test.apply(lambda x: x > avg).astype(int) "
   ]
  },
  {
   "cell_type": "code",
   "execution_count": 23,
   "id": "549bf0d1-d078-4053-af24-95b97807a9b6",
   "metadata": {},
   "outputs": [
    {
     "data": {
      "text/plain": [
       "LogisticRegression(max_iter=1000, random_state=42, solver='liblinear')"
      ]
     },
     "execution_count": 23,
     "metadata": {},
     "output_type": "execute_result"
    }
   ],
   "source": [
    "model = LogisticRegression(solver=\"liblinear\", C=1.0, max_iter=1000, random_state=42)\n",
    "model.fit(X_train, y_train_cat)"
   ]
  },
  {
   "cell_type": "code",
   "execution_count": 24,
   "id": "7d966b2f-289d-480a-bb3f-aff9f3da82f3",
   "metadata": {},
   "outputs": [
    {
     "data": {
      "text/plain": [
       "0.8238856589147286"
      ]
     },
     "execution_count": 24,
     "metadata": {},
     "output_type": "execute_result"
    }
   ],
   "source": [
    "y_val_pred = model.predict_proba(X_val)[:, 1].round(2)\n",
    "y_val_pred_binary = (y_val_pred >= 0.5).astype(int)\n",
    "\n",
    "val_accuracy = (y_val_pred_binary == y_val_cat).mean()\n",
    "val_accuracy"
   ]
  },
  {
   "cell_type": "markdown",
   "id": "11bf3271-730c-4d8e-8ad5-032f6bd69581",
   "metadata": {},
   "source": [
    "### Question 5"
   ]
  },
  {
   "cell_type": "code",
   "execution_count": 25,
   "id": "eee9c3cd-6ddd-48af-aaaf-b21bae18c0d8",
   "metadata": {},
   "outputs": [
    {
     "data": {
      "text/plain": [
       "LogisticRegression(max_iter=1000, random_state=42, solver='liblinear')"
      ]
     },
     "execution_count": 25,
     "metadata": {},
     "output_type": "execute_result"
    }
   ],
   "source": [
    "columns = ['total_rooms', 'total_bedrooms', 'population', 'households']\n",
    "X_small = df_train.loc[:, columns]\n",
    "\n",
    "model = LogisticRegression(solver=\"liblinear\", C=1.0, max_iter=1000, random_state=42)\n",
    "model.fit(X_small.values, y_train_cat)"
   ]
  },
  {
   "cell_type": "code",
   "execution_count": 26,
   "id": "c67a5ba1-0c0f-453b-92f5-45d121f579f9",
   "metadata": {},
   "outputs": [
    {
     "data": {
      "text/plain": [
       "0.6848352713178295"
      ]
     },
     "execution_count": 26,
     "metadata": {},
     "output_type": "execute_result"
    }
   ],
   "source": [
    "X_val_small = df_val.loc[:, columns]\n",
    "y_val_pred = model.predict_proba(X_val_small.values)[:, 1].round(2)\n",
    "\n",
    "y_val_pred = (y_val_pred >= 0.5).astype(int)\n",
    "val_acc = (y_val_pred == y_val_cat).mean()\n",
    "val_acc"
   ]
  },
  {
   "cell_type": "code",
   "execution_count": 27,
   "id": "2fcb62b1-217b-4d3c-8934-4b3a3746f877",
   "metadata": {},
   "outputs": [],
   "source": [
    "accuracy = []\n",
    "for col in X_small.columns:\n",
    "    X_train_small = X_small.drop(col, axis=1)\n",
    "    model = LogisticRegression(solver=\"liblinear\", C=1.0, max_iter=1000, random_state=42)\n",
    "    model.fit(X_train_small, y_train_cat)\n",
    "    \n",
    "    X_val_s = X_val_small.drop(col, axis=1) \n",
    "    y_val_pred = model.predict_proba(X_val_s)[:, 1].round(2)\n",
    "\n",
    "    y_val_pred = (y_val_pred >= 0.5).astype(int)\n",
    "    new_val_acc = (y_val_pred == y_val_cat).mean()\n",
    "    \n",
    "    diff_acc = val_acc - new_val_acc\n",
    "    \n",
    "    accuracy.append(f\"{col}: {diff_acc}\")"
   ]
  },
  {
   "cell_type": "code",
   "execution_count": 28,
   "id": "8d19238f-7218-457c-a7c4-6cbafd59ef1d",
   "metadata": {},
   "outputs": [
    {
     "data": {
      "text/plain": [
       "['total_rooms: 0.07437015503875977',\n",
       " 'total_bedrooms: 0.036579457364341095',\n",
       " 'population: 0.05256782945736438',\n",
       " 'households: 0.02083333333333337']"
      ]
     },
     "execution_count": 28,
     "metadata": {},
     "output_type": "execute_result"
    }
   ],
   "source": [
    "accuracy"
   ]
  },
  {
   "cell_type": "markdown",
   "id": "9322a412-32ce-42d9-a730-5ac1f8adfe61",
   "metadata": {},
   "source": [
    "### Question 6"
   ]
  },
  {
   "cell_type": "code",
   "execution_count": 29,
   "id": "3e59cd7b-a8cd-44db-aca0-51ca99b1bad3",
   "metadata": {},
   "outputs": [],
   "source": [
    "from sklearn.linear_model import Ridge"
   ]
  },
  {
   "cell_type": "code",
   "execution_count": 30,
   "id": "5cd70e5e-3988-4634-9680-b8456f0899c6",
   "metadata": {},
   "outputs": [],
   "source": [
    "y_train_log = np.log(y_train)\n",
    "y_val_log = np.log(y_val)"
   ]
  },
  {
   "cell_type": "code",
   "execution_count": 32,
   "id": "1ed1bb4e-5c5e-4ba3-a095-e6bd020ab709",
   "metadata": {},
   "outputs": [],
   "source": [
    "def rmse(y, y_pred):\n",
    "    m = len(y)\n",
    "    sq_err = (y - y_pred) ** 2\n",
    "    m_sq_err = np.sum(sq_err) / m\n",
    "    rm_sq_err = np.sqrt(m_sq_err)\n",
    "    \n",
    "    return rm_sq_err\n",
    "\n",
    "\n",
    "alpha_values = [0, 0.01, 0.1, 1, 10]\n",
    "error = []\n",
    "for a in alpha_values:\n",
    "    model = Ridge(alpha=a, solver=\"sag\", random_state=42)\n",
    "    model.fit(X_train, y_train_log)\n",
    "    \n",
    "    y_val_pred = model.predict(X_val) \n",
    "    err = rmse(y_val_log, y_val_pred).round(3)\n",
    "    error.append(err)"
   ]
  },
  {
   "cell_type": "code",
   "execution_count": 33,
   "id": "746413c5-f0a0-4180-bb97-590a8dd5b3f6",
   "metadata": {},
   "outputs": [
    {
     "data": {
      "text/plain": [
       "[0.531, 0.531, 0.531, 0.531, 0.531]"
      ]
     },
     "execution_count": 33,
     "metadata": {},
     "output_type": "execute_result"
    }
   ],
   "source": [
    "error"
   ]
  },
  {
   "cell_type": "code",
   "execution_count": null,
   "id": "ea0db0e1-f0e3-4f1f-8a54-b58746213bed",
   "metadata": {},
   "outputs": [],
   "source": []
  }
 ],
 "metadata": {
  "kernelspec": {
   "display_name": "Python 3 (ipykernel)",
   "language": "python",
   "name": "python3"
  },
  "language_info": {
   "codemirror_mode": {
    "name": "ipython",
    "version": 3
   },
   "file_extension": ".py",
   "mimetype": "text/x-python",
   "name": "python",
   "nbconvert_exporter": "python",
   "pygments_lexer": "ipython3",
   "version": "3.9.9"
  }
 },
 "nbformat": 4,
 "nbformat_minor": 5
}
